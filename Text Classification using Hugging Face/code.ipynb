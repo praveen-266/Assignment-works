{
 "cells": [
  {
   "cell_type": "code",
   "execution_count": 1,
   "id": "d40016e2",
   "metadata": {},
   "outputs": [
    {
     "name": "stderr",
     "output_type": "stream",
     "text": [
      "C:\\Users\\prave\\anaconda3\\envs\\tensorflow3.9.5\\lib\\site-packages\\numpy\\_distributor_init.py:30: UserWarning: loaded more than 1 DLL from .libs:\n",
      "C:\\Users\\prave\\anaconda3\\envs\\tensorflow3.9.5\\lib\\site-packages\\numpy\\.libs\\libopenblas.EL2C6PLE4ZYW3ECEVIV3OXXGRN2NRFM2.gfortran-win_amd64.dll\n",
      "C:\\Users\\prave\\anaconda3\\envs\\tensorflow3.9.5\\lib\\site-packages\\numpy\\.libs\\libopenblas64__v0.3.21-gcc_10_3_0.dll\n",
      "  warnings.warn(\"loaded more than 1 DLL from .libs:\"\n"
     ]
    }
   ],
   "source": [
    "import numpy as np\n",
    "import pandas as pd\n",
    "import matplotlib.pyplot as plt\n",
    "import seaborn as sns\n",
    "import warnings\n",
    "warnings.filterwarnings('ignore')"
   ]
  },
  {
   "cell_type": "code",
   "execution_count": 2,
   "id": "4b688cfc",
   "metadata": {},
   "outputs": [],
   "source": [
    "df=pd.read_csv(\"C://users/prave/Downloads/NewsCategorizer.csv\")"
   ]
  },
  {
   "cell_type": "code",
   "execution_count": 3,
   "id": "7c9b86e4",
   "metadata": {},
   "outputs": [
    {
     "data": {
      "text/html": [
       "<div>\n",
       "<style scoped>\n",
       "    .dataframe tbody tr th:only-of-type {\n",
       "        vertical-align: middle;\n",
       "    }\n",
       "\n",
       "    .dataframe tbody tr th {\n",
       "        vertical-align: top;\n",
       "    }\n",
       "\n",
       "    .dataframe thead th {\n",
       "        text-align: right;\n",
       "    }\n",
       "</style>\n",
       "<table border=\"1\" class=\"dataframe\">\n",
       "  <thead>\n",
       "    <tr style=\"text-align: right;\">\n",
       "      <th></th>\n",
       "      <th>category</th>\n",
       "      <th>headline</th>\n",
       "      <th>links</th>\n",
       "      <th>short_description</th>\n",
       "      <th>keywords</th>\n",
       "    </tr>\n",
       "  </thead>\n",
       "  <tbody>\n",
       "    <tr>\n",
       "      <th>0</th>\n",
       "      <td>SPORTS</td>\n",
       "      <td>U.S. 'Shib Sibs' Win Over The World In 2018 Wi...</td>\n",
       "      <td>https://www.huffingtonpost.com/entry/shib-sibs...</td>\n",
       "      <td>Brother and sister Alex and Maia Shibutani too...</td>\n",
       "      <td>shib-sibs-win-over-the-world-in-2018-winter-ol...</td>\n",
       "    </tr>\n",
       "    <tr>\n",
       "      <th>1</th>\n",
       "      <td>FOOD &amp; DRINK</td>\n",
       "      <td>Automatic Jam And Jelly Maker By Ball Seems Li...</td>\n",
       "      <td>https://www.huffingtonpost.com/entry/automatic...</td>\n",
       "      <td>It doesn't seem completely ground-breaking to ...</td>\n",
       "      <td>automatic-jam-and-jelly-maker-video</td>\n",
       "    </tr>\n",
       "    <tr>\n",
       "      <th>2</th>\n",
       "      <td>FOOD &amp; DRINK</td>\n",
       "      <td>Amazing Crock Pot Recipes You Won't Believe Ca...</td>\n",
       "      <td>https://www.huffingtonpost.com/entry/crock-pot...</td>\n",
       "      <td>Think of your Crock Pot as a temperature-regul...</td>\n",
       "      <td>crock-pot-recipe-slow-cooker</td>\n",
       "    </tr>\n",
       "    <tr>\n",
       "      <th>3</th>\n",
       "      <td>SPORTS</td>\n",
       "      <td>Stephen Curry Started Off Super Bowl 50 With A...</td>\n",
       "      <td>https://www.huffingtonpost.com/entry/stephen-c...</td>\n",
       "      <td>#KeepPounding</td>\n",
       "      <td>stephen-curry-keep-pounding-drum</td>\n",
       "    </tr>\n",
       "    <tr>\n",
       "      <th>4</th>\n",
       "      <td>ENTERTAINMENT</td>\n",
       "      <td>Power in the Blood: Chatting With Buffy Sainte...</td>\n",
       "      <td>https://www.huffingtonpost.com/entry/power-in-...</td>\n",
       "      <td>Buffy's new new album Power In The Blood start...</td>\n",
       "      <td>power-in-the-blood-chatti</td>\n",
       "    </tr>\n",
       "  </tbody>\n",
       "</table>\n",
       "</div>"
      ],
      "text/plain": [
       "        category                                           headline  \\\n",
       "0         SPORTS  U.S. 'Shib Sibs' Win Over The World In 2018 Wi...   \n",
       "1   FOOD & DRINK  Automatic Jam And Jelly Maker By Ball Seems Li...   \n",
       "2   FOOD & DRINK  Amazing Crock Pot Recipes You Won't Believe Ca...   \n",
       "3         SPORTS  Stephen Curry Started Off Super Bowl 50 With A...   \n",
       "4  ENTERTAINMENT  Power in the Blood: Chatting With Buffy Sainte...   \n",
       "\n",
       "                                               links  \\\n",
       "0  https://www.huffingtonpost.com/entry/shib-sibs...   \n",
       "1  https://www.huffingtonpost.com/entry/automatic...   \n",
       "2  https://www.huffingtonpost.com/entry/crock-pot...   \n",
       "3  https://www.huffingtonpost.com/entry/stephen-c...   \n",
       "4  https://www.huffingtonpost.com/entry/power-in-...   \n",
       "\n",
       "                                   short_description  \\\n",
       "0  Brother and sister Alex and Maia Shibutani too...   \n",
       "1  It doesn't seem completely ground-breaking to ...   \n",
       "2  Think of your Crock Pot as a temperature-regul...   \n",
       "3                                      #KeepPounding   \n",
       "4  Buffy's new new album Power In The Blood start...   \n",
       "\n",
       "                                            keywords  \n",
       "0  shib-sibs-win-over-the-world-in-2018-winter-ol...  \n",
       "1                automatic-jam-and-jelly-maker-video  \n",
       "2                       crock-pot-recipe-slow-cooker  \n",
       "3                   stephen-curry-keep-pounding-drum  \n",
       "4                          power-in-the-blood-chatti  "
      ]
     },
     "execution_count": 3,
     "metadata": {},
     "output_type": "execute_result"
    }
   ],
   "source": [
    "# sample the dataset\n",
    "df = df.sample(frac=1).reset_index(drop=True)\n",
    "df.head()"
   ]
  },
  {
   "cell_type": "code",
   "execution_count": 4,
   "id": "4e185075",
   "metadata": {},
   "outputs": [
    {
     "data": {
      "text/plain": [
       "SPORTS            5000\n",
       "FOOD & DRINK      5000\n",
       "ENTERTAINMENT     5000\n",
       "TRAVEL            5000\n",
       "STYLE & BEAUTY    5000\n",
       "BUSINESS          5000\n",
       "WELLNESS          5000\n",
       "PARENTING         5000\n",
       "WORLD NEWS        5000\n",
       "POLITICS          5000\n",
       "Name: category, dtype: int64"
      ]
     },
     "execution_count": 4,
     "metadata": {},
     "output_type": "execute_result"
    }
   ],
   "source": [
    "df['category'].value_counts()"
   ]
  },
  {
   "cell_type": "code",
   "execution_count": 5,
   "id": "94a3d594",
   "metadata": {},
   "outputs": [],
   "source": [
    "df['category'] = df['category'].astype('category')\n",
    "df['category'] = df['category'].cat.codes"
   ]
  },
  {
   "cell_type": "code",
   "execution_count": 6,
   "id": "8d29a205",
   "metadata": {},
   "outputs": [
    {
     "data": {
      "text/plain": [
       "category                0\n",
       "headline                0\n",
       "links                   0\n",
       "short_description       0\n",
       "keywords             2668\n",
       "dtype: int64"
      ]
     },
     "execution_count": 6,
     "metadata": {},
     "output_type": "execute_result"
    }
   ],
   "source": [
    "df.isnull().sum()"
   ]
  },
  {
   "cell_type": "code",
   "execution_count": 7,
   "id": "d8a22e17",
   "metadata": {},
   "outputs": [],
   "source": [
    "# drop the \"keyword\" and \"link\" features\n",
    "df.drop(columns=['links','keywords'],inplace=True)"
   ]
  },
  {
   "cell_type": "code",
   "execution_count": 8,
   "id": "8c57195c",
   "metadata": {},
   "outputs": [
    {
     "data": {
      "text/plain": [
       "4251"
      ]
     },
     "execution_count": 8,
     "metadata": {},
     "output_type": "execute_result"
    }
   ],
   "source": [
    "# check duplicate values\n",
    "df.duplicated().sum()"
   ]
  },
  {
   "cell_type": "code",
   "execution_count": 9,
   "id": "736c5398",
   "metadata": {},
   "outputs": [
    {
     "data": {
      "text/plain": [
       "(45749, 3)"
      ]
     },
     "execution_count": 9,
     "metadata": {},
     "output_type": "execute_result"
    }
   ],
   "source": [
    "# drop duplicate values\n",
    "\n",
    "df = df.drop_duplicates()\n",
    "df.shape"
   ]
  },
  {
   "cell_type": "code",
   "execution_count": 10,
   "id": "49c02531",
   "metadata": {},
   "outputs": [
    {
     "data": {
      "text/plain": [
       "<AxesSubplot: xlabel='num_words', ylabel='Density'>"
      ]
     },
     "execution_count": 10,
     "metadata": {},
     "output_type": "execute_result"
    },
    {
     "data": {
      "image/png": "[encoded data removed]",
      "text/plain": [
       "<Figure size 1200x600 with 1 Axes>"
      ]
     },
     "metadata": {},
     "output_type": "display_data"
    }
   ],
   "source": [
    "# word length of short_description column\n",
    "plt.figure(figsize=(12,6))\n",
    "df['num_words'] = df['short_description'].apply(len)\n",
    "sns.distplot(df.num_words)"
   ]
  },
  {
   "cell_type": "code",
   "execution_count": 11,
   "id": "d45f1f81",
   "metadata": {},
   "outputs": [
    {
     "data": {
      "text/plain": [
       "count    45749.000000\n",
       "mean       134.504842\n",
       "std         77.777536\n",
       "min          1.000000\n",
       "25%         84.000000\n",
       "50%        122.000000\n",
       "75%        168.000000\n",
       "max       1392.000000\n",
       "Name: num_words, dtype: float64"
      ]
     },
     "execution_count": 11,
     "metadata": {},
     "output_type": "execute_result"
    }
   ],
   "source": [
    "df['num_words'].describe()"
   ]
  },
  {
   "cell_type": "markdown",
   "id": "d099ae93",
   "metadata": {},
   "source": [
    "### Text Pre-processing "
   ]
  },
  {
   "cell_type": "code",
   "execution_count": 12,
   "id": "fd934ad9",
   "metadata": {},
   "outputs": [
    {
     "name": "stderr",
     "output_type": "stream",
     "text": [
      "[nltk_data] Error loading stopwords: <urlopen error [WinError 10054]\n",
      "[nltk_data]     An existing connection was forcibly closed by the\n",
      "[nltk_data]     remote host>\n"
     ]
    }
   ],
   "source": [
    "import re\n",
    "import nltk\n",
    "nltk.download('stopwords')\n",
    "from nltk.corpus import stopwords\n",
    "from nltk.stem import WordNetLemmatizer \n",
    "\n",
    "def preprocess(text):\n",
    "    content=re.sub('[^a-zA-Z]', ' ',text)\n",
    "    content=content.lower()\n",
    "    content=content.split()\n",
    "    lemmatizer=WordNetLemmatizer()\n",
    "    all_stopwords=stopwords.words('english')\n",
    "    all_stopwords.remove('not')\n",
    "    \n",
    "    content=[lemmatizer.lemmatize(word) for word in content if not word in set(all_stopwords)]\n",
    "    return ' '.join(content)"
   ]
  },
  {
   "cell_type": "code",
   "execution_count": 13,
   "id": "4329c50a",
   "metadata": {},
   "outputs": [],
   "source": [
    "df['headline']=df['headline'].apply(lambda x: preprocess(x))\n",
    "df['short_description']=df['short_description'].apply(lambda x:preprocess(x))"
   ]
  },
  {
   "cell_type": "code",
   "execution_count": 14,
   "id": "390b4856",
   "metadata": {},
   "outputs": [
    {
     "data": {
      "text/html": [
       "<div>\n",
       "<style scoped>\n",
       "    .dataframe tbody tr th:only-of-type {\n",
       "        vertical-align: middle;\n",
       "    }\n",
       "\n",
       "    .dataframe tbody tr th {\n",
       "        vertical-align: top;\n",
       "    }\n",
       "\n",
       "    .dataframe thead th {\n",
       "        text-align: right;\n",
       "    }\n",
       "</style>\n",
       "<table border=\"1\" class=\"dataframe\">\n",
       "  <thead>\n",
       "    <tr style=\"text-align: right;\">\n",
       "      <th></th>\n",
       "      <th>category</th>\n",
       "      <th>headline</th>\n",
       "      <th>short_description</th>\n",
       "      <th>num_words</th>\n",
       "      <th>content</th>\n",
       "    </tr>\n",
       "  </thead>\n",
       "  <tbody>\n",
       "    <tr>\n",
       "      <th>0</th>\n",
       "      <td>5</td>\n",
       "      <td>u shib sib win world winter olympics debut</td>\n",
       "      <td>brother sister alex maia shibutani took second...</td>\n",
       "      <td>85</td>\n",
       "      <td>u shib sib win world winter olympics debut bro...</td>\n",
       "    </tr>\n",
       "    <tr>\n",
       "      <th>1</th>\n",
       "      <td>2</td>\n",
       "      <td>automatic jam jelly maker ball seems like chea...</td>\n",
       "      <td>seem completely ground breaking u yet especial...</td>\n",
       "      <td>85</td>\n",
       "      <td>automatic jam jelly maker ball seems like chea...</td>\n",
       "    </tr>\n",
       "    <tr>\n",
       "      <th>2</th>\n",
       "      <td>2</td>\n",
       "      <td>amazing crock pot recipe believe came slow coo...</td>\n",
       "      <td>think crock pot temperature regulated treasure...</td>\n",
       "      <td>66</td>\n",
       "      <td>amazing crock pot recipe believe came slow coo...</td>\n",
       "    </tr>\n",
       "    <tr>\n",
       "      <th>3</th>\n",
       "      <td>5</td>\n",
       "      <td>stephen curry started super bowl literal bang</td>\n",
       "      <td>keeppounding</td>\n",
       "      <td>13</td>\n",
       "      <td>stephen curry started super bowl literal bang ...</td>\n",
       "    </tr>\n",
       "    <tr>\n",
       "      <th>4</th>\n",
       "      <td>1</td>\n",
       "      <td>power blood chatting buffy sainte marie plus f...</td>\n",
       "      <td>buffy new new album power blood start remake c...</td>\n",
       "      <td>210</td>\n",
       "      <td>power blood chatting buffy sainte marie plus f...</td>\n",
       "    </tr>\n",
       "  </tbody>\n",
       "</table>\n",
       "</div>"
      ],
      "text/plain": [
       "   category                                           headline  \\\n",
       "0         5         u shib sib win world winter olympics debut   \n",
       "1         2  automatic jam jelly maker ball seems like chea...   \n",
       "2         2  amazing crock pot recipe believe came slow coo...   \n",
       "3         5      stephen curry started super bowl literal bang   \n",
       "4         1  power blood chatting buffy sainte marie plus f...   \n",
       "\n",
       "                                   short_description  num_words  \\\n",
       "0  brother sister alex maia shibutani took second...         85   \n",
       "1  seem completely ground breaking u yet especial...         85   \n",
       "2  think crock pot temperature regulated treasure...         66   \n",
       "3                                       keeppounding         13   \n",
       "4  buffy new new album power blood start remake c...        210   \n",
       "\n",
       "                                             content  \n",
       "0  u shib sib win world winter olympics debut bro...  \n",
       "1  automatic jam jelly maker ball seems like chea...  \n",
       "2  amazing crock pot recipe believe came slow coo...  \n",
       "3  stephen curry started super bowl literal bang ...  \n",
       "4  power blood chatting buffy sainte marie plus f...  "
      ]
     },
     "execution_count": 14,
     "metadata": {},
     "output_type": "execute_result"
    }
   ],
   "source": [
    "# merge headline and short_description as content\n",
    "df['content']=df['headline'] + \" \" + df['short_description']\n",
    "df.head()"
   ]
  },
  {
   "cell_type": "code",
   "execution_count": 15,
   "id": "d9d19787",
   "metadata": {},
   "outputs": [],
   "source": [
    "df=df[:10000]"
   ]
  },
  {
   "cell_type": "markdown",
   "id": "f1f2770c",
   "metadata": {},
   "source": [
    "### Splitting the preprocessed dataset into training, validation and test sets"
   ]
  },
  {
   "cell_type": "code",
   "execution_count": 16,
   "id": "8f5abc22",
   "metadata": {},
   "outputs": [],
   "source": [
    "from sklearn.model_selection import train_test_split\n",
    "\n",
    "X = list(df[\"content\"])\n",
    "y = list(df[\"category\"])\n",
    "\n",
    "X_train, X_rem, y_train, y_rem = train_test_split(X, y, test_size=0.2,stratify=y)\n",
    "\n",
    "X_val, X_test, y_val, y_test = train_test_split(X_rem, y_rem, test_size=0.7)"
   ]
  },
  {
   "cell_type": "code",
   "execution_count": 17,
   "id": "a067baaa",
   "metadata": {},
   "outputs": [
    {
     "name": "stdout",
     "output_type": "stream",
     "text": [
      "879\n"
     ]
    }
   ],
   "source": [
    "# maximum length of the Description in dataset\n",
    "max = 0\n",
    "for i in X:\n",
    "    if len(i)>max:\n",
    "        max = len(i)\n",
    "    \n",
    "print(max)"
   ]
  },
  {
   "cell_type": "markdown",
   "id": "38490005",
   "metadata": {},
   "source": [
    "### Pre-Trained Model"
   ]
  },
  {
   "cell_type": "markdown",
   "id": "10498e5f",
   "metadata": {},
   "source": [
    "**BERT**"
   ]
  },
  {
   "cell_type": "code",
   "execution_count": 18,
   "id": "13c1d837",
   "metadata": {},
   "outputs": [
    {
     "name": "stderr",
     "output_type": "stream",
     "text": [
      "Some layers from the model checkpoint at distilbert-base-uncased-finetuned-sst-2-english were not used when initializing TFDistilBertModel: ['classifier', 'pre_classifier', 'dropout_19']\n",
      "- This IS expected if you are initializing TFDistilBertModel from the checkpoint of a model trained on another task or with another architecture (e.g. initializing a BertForSequenceClassification model from a BertForPreTraining model).\n",
      "- This IS NOT expected if you are initializing TFDistilBertModel from the checkpoint of a model that you expect to be exactly identical (initializing a BertForSequenceClassification model from a BertForSequenceClassification model).\n",
      "All the layers of TFDistilBertModel were initialized from the model checkpoint at distilbert-base-uncased-finetuned-sst-2-english.\n",
      "If your task is similar to the task the model of the checkpoint was trained on, you can already use TFDistilBertModel for predictions without further training.\n"
     ]
    }
   ],
   "source": [
    "import torch \n",
    "from transformers import DistilBertTokenizerFast, TFDistilBertModel\n",
    "\n",
    "model_name = \"distilbert-base-uncased-finetuned-sst-2-english\"\n",
    "tokenizer = DistilBertTokenizerFast.from_pretrained(model_name)\n",
    "model = TFDistilBertModel.from_pretrained(model_name)"
   ]
  },
  {
   "cell_type": "markdown",
   "id": "167b3af0",
   "metadata": {},
   "source": [
    "### Text Tokenization"
   ]
  },
  {
   "cell_type": "code",
   "execution_count": 19,
   "id": "d47c1c89",
   "metadata": {},
   "outputs": [],
   "source": [
    "X_train_tokenized = tokenizer(X_train, padding=True, truncation=True, max_length=8, return_tensors = \"tf\")\n",
    "X_val_tokenized = tokenizer(X_val, padding=True, truncation=True, max_length=8, return_tensors = \"tf\")\n",
    "X_test_tokenized = tokenizer(X_test, padding=\"max_length\", truncation=True, max_length=8, return_tensors = \"tf\")"
   ]
  },
  {
   "cell_type": "code",
   "execution_count": 20,
   "id": "759fbb2a",
   "metadata": {},
   "outputs": [
    {
     "data": {
      "text/plain": [
       "(8, 8, 8)"
      ]
     },
     "execution_count": 20,
     "metadata": {},
     "output_type": "execute_result"
    }
   ],
   "source": [
    "len(X_train_tokenized['input_ids'][1]),len(X_val_tokenized['input_ids'][1]),len(X_test_tokenized['input_ids'][1])"
   ]
  },
  {
   "cell_type": "code",
   "execution_count": 21,
   "id": "2323092a",
   "metadata": {},
   "outputs": [],
   "source": [
    "from tensorflow.keras.optimizers import Adam\n",
    "from tensorflow.keras.callbacks import EarlyStopping\n",
    "from tensorflow.keras.initializers import TruncatedNormal \n",
    "from tensorflow.keras.losses import CategoricalCrossentropy \n",
    "from tensorflow.keras.metrics import CategoricalAccuracy \n",
    "from tensorflow.keras.utils import to_categorical"
   ]
  },
  {
   "cell_type": "markdown",
   "id": "18f896a5",
   "metadata": {},
   "source": [
    "### Fine-tuning the pretrained Distilbert "
   ]
  },
  {
   "cell_type": "code",
   "execution_count": 22,
   "id": "e880430e",
   "metadata": {},
   "outputs": [],
   "source": [
    "max_len = 8\n",
    "import tensorflow as tf\n",
    "from tensorflow.keras.layers import Input, Dense\n",
    "\n",
    "input_ids = Input(shape=(max_len,), dtype=tf.int32, name=\"input_ids\")\n",
    "input_mask = Input(shape=(max_len, ), dtype=tf.int32, name=\"attention_mask\")\n",
    "# embeddings = dbert_model(input_ids, attention_mask = input_mask)[0]\n",
    "\n",
    "embeddings = model(input_ids, attention_mask= input_mask)[0] #(0 is the last hidden states, 1 means pooler_output) \n",
    "out = tf.keras.layers.GlobalMaxPool1D()(embeddings)\n",
    "out = Dense(128, activation='relu')(out)\n",
    "out = tf.keras.layers.Dropout(0.1)(out)\n",
    "out = Dense(32, activation = 'relu')(out)\n",
    "\n",
    "y = Dense(10, activation = 'softmax')(out)\n",
    "\n",
    "model = tf.keras.Model(inputs = [input_ids, input_mask], outputs=y)\n",
    "model.layers[2].trainable = True"
   ]
  },
  {
   "cell_type": "markdown",
   "id": "ca2cb3c3",
   "metadata": {},
   "source": [
    "## Model Architecture"
   ]
  },
  {
   "cell_type": "code",
   "execution_count": 23,
   "id": "e40114bc",
   "metadata": {},
   "outputs": [
    {
     "name": "stdout",
     "output_type": "stream",
     "text": [
      "Model: \"model\"\n",
      "__________________________________________________________________________________________________\n",
      " Layer (type)                   Output Shape         Param #     Connected to                     \n",
      "==================================================================================================\n",
      " input_ids (InputLayer)         [(None, 8)]          0           []                               \n",
      "                                                                                                  \n",
      " attention_mask (InputLayer)    [(None, 8)]          0           []                               \n",
      "                                                                                                  \n",
      " tf_distil_bert_model (TFDistil  TFBaseModelOutput(l  66362880   ['input_ids[0][0]',              \n",
      " BertModel)                     ast_hidden_state=(N               'attention_mask[0][0]']         \n",
      "                                one, 8, 768),                                                     \n",
      "                                 hidden_states=None                                               \n",
      "                                , attentions=None)                                                \n",
      "                                                                                                  \n",
      " global_max_pooling1d (GlobalMa  (None, 768)         0           ['tf_distil_bert_model[0][0]']   \n",
      " xPooling1D)                                                                                      \n",
      "                                                                                                  \n",
      " dense (Dense)                  (None, 128)          98432       ['global_max_pooling1d[0][0]']   \n",
      "                                                                                                  \n",
      " dropout_19 (Dropout)           (None, 128)          0           ['dense[0][0]']                  \n",
      "                                                                                                  \n",
      " dense_1 (Dense)                (None, 32)           4128        ['dropout_19[0][0]']             \n",
      "                                                                                                  \n",
      " dense_2 (Dense)                (None, 10)           330         ['dense_1[0][0]']                \n",
      "                                                                                                  \n",
      "==================================================================================================\n",
      "Total params: 66,465,770\n",
      "Trainable params: 66,465,770\n",
      "Non-trainable params: 0\n",
      "__________________________________________________________________________________________________\n"
     ]
    }
   ],
   "source": [
    "model.summary()"
   ]
  },
  {
   "cell_type": "code",
   "execution_count": 24,
   "id": "c0f5fb7c",
   "metadata": {},
   "outputs": [],
   "source": [
    "optimizer = Adam(learning_rate=5e-05, epsilon=1e-08, decay=0.01, clipnorm=1.0)\n",
    "\n",
    "# Set loss and metrics\n",
    "loss = CategoricalCrossentropy(from_logits=True)\n",
    "metric = CategoricalAccuracy('balanced_accuracy')\n",
    "\n",
    "# Compile the model\n",
    "model.compile(optimizer = optimizer, loss = loss, metrics = metric)"
   ]
  },
  {
   "cell_type": "code",
   "execution_count": 25,
   "id": "3a18d5d9",
   "metadata": {},
   "outputs": [
    {
     "name": "stdout",
     "output_type": "stream",
     "text": [
      "WARNING:tensorflow:From C:\\Users\\prave\\AppData\\Local\\Temp\\ipykernel_10592\\403206910.py:1: experimental_run_functions_eagerly (from tensorflow.python.eager.def_function) is deprecated and will be removed in a future version.\n",
      "Instructions for updating:\n",
      "Use `tf.config.run_functions_eagerly` instead of the experimental version.\n"
     ]
    }
   ],
   "source": [
    "tf.config.experimental_run_functions_eagerly(True)\n",
    "tf.config.run_functions_eagerly(True)"
   ]
  },
  {
   "cell_type": "code",
   "execution_count": 26,
   "id": "48b542fc",
   "metadata": {},
   "outputs": [
    {
     "name": "stdout",
     "output_type": "stream",
     "text": [
      "Epoch 1/5\n",
      "250/250 [==============================] - 138s 549ms/step - loss: 1.4249 - balanced_accuracy: 0.5410 - val_loss: 1.1163 - val_balanced_accuracy: 0.6650\n",
      "Epoch 2/5\n",
      "250/250 [==============================] - 142s 570ms/step - loss: 0.8850 - balanced_accuracy: 0.7305 - val_loss: 1.0718 - val_balanced_accuracy: 0.6900\n",
      "Epoch 3/5\n",
      "250/250 [==============================] - 147s 590ms/step - loss: 0.7220 - balanced_accuracy: 0.7809 - val_loss: 1.0863 - val_balanced_accuracy: 0.7000\n",
      "Epoch 4/5\n",
      "250/250 [==============================] - 133s 533ms/step - loss: 0.6216 - balanced_accuracy: 0.8190 - val_loss: 1.1012 - val_balanced_accuracy: 0.6933\n",
      "Epoch 5/5\n",
      "250/250 [==============================] - 123s 490ms/step - loss: 0.5423 - balanced_accuracy: 0.8384 - val_loss: 1.1197 - val_balanced_accuracy: 0.7017\n"
     ]
    }
   ],
   "source": [
    "train_history = model.fit(\n",
    "    x = {'input_ids' :X_train_tokenized['input_ids'], 'attention_mask' :X_train_tokenized['attention_mask']},\n",
    "    y = to_categorical(y_train),\n",
    "    validation_data = ({'input_ids' :X_val_tokenized['input_ids'], 'attention_mask' :X_val_tokenized['attention_mask']}, to_categorical(y_val)),\n",
    "    epochs=5)"
   ]
  },
  {
   "cell_type": "code",
   "execution_count": 27,
   "id": "4fe032d8",
   "metadata": {},
   "outputs": [
    {
     "data": {
      "text/plain": [
       "<matplotlib.legend.Legend at 0x1c581792ca0>"
      ]
     },
     "execution_count": 27,
     "metadata": {},
     "output_type": "execute_result"
    },
    {
     "data": {
      "image/png": "[encoded data removed]",
      "text/plain": [
       "<Figure size 640x480 with 1 Axes>"
      ]
     },
     "metadata": {},
     "output_type": "display_data"
    }
   ],
   "source": [
    "plt.plot(train_history.history['loss'],'r',label='train loss')\n",
    "plt.plot(train_history.history['val_loss'],'b',label='test loss')\n",
    "plt.xlabel('No. of Epochs')\n",
    "plt.ylabel('Binary Crossentropy Loss')\n",
    "plt.title('Loss Graph')\n",
    "plt.legend()"
   ]
  },
  {
   "cell_type": "code",
   "execution_count": 28,
   "id": "50e30b7f",
   "metadata": {},
   "outputs": [
    {
     "data": {
      "text/plain": [
       "<matplotlib.legend.Legend at 0x1c4a69bd940>"
      ]
     },
     "execution_count": 28,
     "metadata": {},
     "output_type": "execute_result"
    },
    {
     "data": {
      "image/png": "[encoded data removed]",
      "text/plain": [
       "<Figure size 640x480 with 1 Axes>"
      ]
     },
     "metadata": {},
     "output_type": "display_data"
    }
   ],
   "source": [
    "plt.plot(train_history.history['balanced_accuracy'],'r',label='train accuracy')\n",
    "plt.plot(train_history.history['val_balanced_accuracy'],'b',label='test accuracy')\n",
    "plt.xlabel('No. of Epochs')\n",
    "plt.ylabel('Accuracy')\n",
    "plt.title('Accuracy Graph')\n",
    "plt.legend()"
   ]
  },
  {
   "cell_type": "code",
   "execution_count": 29,
   "id": "5b0b23ee",
   "metadata": {},
   "outputs": [
    {
     "name": "stdout",
     "output_type": "stream",
     "text": [
      "44/44 [==============================] - 6s 128ms/step\n"
     ]
    }
   ],
   "source": [
    "pred_raw = model.predict({'input_ids' :X_test_tokenized['input_ids'], 'attention_mask' :X_test_tokenized['attention_mask']})\n",
    "y_pred = np.argmax(pred_raw, axis=1)"
   ]
  },
  {
   "cell_type": "code",
   "execution_count": 30,
   "id": "5c6600ce",
   "metadata": {},
   "outputs": [
    {
     "name": "stdout",
     "output_type": "stream",
     "text": [
      "              precision    recall  f1-score   support\n",
      "\n",
      "           0       0.63      0.64      0.64       129\n",
      "           1       0.66      0.66      0.66       150\n",
      "           2       0.77      0.86      0.81       142\n",
      "           3       0.71      0.77      0.74       142\n",
      "           4       0.71      0.59      0.65       147\n",
      "           5       0.75      0.78      0.77       130\n",
      "           6       0.73      0.75      0.74       130\n",
      "           7       0.75      0.70      0.73       138\n",
      "           8       0.65      0.70      0.68       140\n",
      "           9       0.84      0.76      0.80       152\n",
      "\n",
      "    accuracy                           0.72      1400\n",
      "   macro avg       0.72      0.72      0.72      1400\n",
      "weighted avg       0.72      0.72      0.72      1400\n",
      "\n"
     ]
    }
   ],
   "source": [
    "from sklearn.metrics import classification_report\n",
    "cr = classification_report(y_test,y_pred)\n",
    "print(cr)"
   ]
  },
  {
   "cell_type": "markdown",
   "id": "e3569ab2",
   "metadata": {},
   "source": [
    "### Testing with few examples"
   ]
  },
  {
   "cell_type": "code",
   "execution_count": 31,
   "id": "a1529b15",
   "metadata": {},
   "outputs": [],
   "source": [
    "dict_val={'BUSINESS':0,\n",
    "'ENTERTAINMENT':1,\n",
    "'FOOD & DRINK':2,\n",
    "'PARENTING':3,\n",
    "'POLITICS':4,\n",
    "'SPORTS':5,\n",
    "'STYLE & BEAUTY':6,\n",
    "'TRAVEL':7,\n",
    "'WELLNESS':8,\n",
    "'WORLD NEWS':9 }"
   ]
  },
  {
   "cell_type": "code",
   "execution_count": 32,
   "id": "cd4da3a6",
   "metadata": {},
   "outputs": [
    {
     "name": "stdout",
     "output_type": "stream",
     "text": [
      "1/1 [==============================] - 0s 175ms/step\n",
      "BUSINESS 20.477053\n",
      "ENTERTAINMENT 4.431656\n",
      "FOOD & DRINK 1.906552\n",
      "PARENTING 1.4243315\n",
      "POLITICS 1.9266357\n",
      "SPORTS 7.399468\n",
      "STYLE & BEAUTY 0.8153137\n",
      "TRAVEL 19.47909\n",
      "WELLNESS 1.9282993\n",
      "WORLD NEWS 40.2116\n"
     ]
    }
   ],
   "source": [
    "# Test case - 1\n",
    "\n",
    "texts = str(\"selling rio silver medal help year old cancer true champion piotr malachowski\")\n",
    "test_tokenized = tokenizer(text=texts, padding=\"max_length\", truncation=True, max_length=8, return_tensors = \"tf\")\n",
    "validate = model.predict({'input_ids' :test_tokenized['input_ids'], 'attention_mask' :test_tokenized['attention_mask']})*100 \n",
    "for key,value in zip(dict_val.keys(), validate[0]):\n",
    "    print(key,value)"
   ]
  },
  {
   "cell_type": "code",
   "execution_count": 33,
   "id": "178ce987",
   "metadata": {},
   "outputs": [
    {
     "name": "stdout",
     "output_type": "stream",
     "text": [
      "1/1 [==============================] - 0s 150ms/step\n",
      "BUSINESS 18.950792\n",
      "ENTERTAINMENT 0.46819574\n",
      "FOOD & DRINK 0.25290152\n",
      "PARENTING 2.3015108\n",
      "POLITICS 75.251366\n",
      "SPORTS 1.2147622\n",
      "STYLE & BEAUTY 0.0871539\n",
      "TRAVEL 0.050182186\n",
      "WELLNESS 0.4393856\n",
      "WORLD NEWS 0.9837558\n"
     ]
    }
   ],
   "source": [
    "# Test case - 2\n",
    "\n",
    "texts = str(\"obama confronts corporate tax reform past lesson suggest lobbyist fight loophole john buckley democrat chief counsel way mean committee time said thomas decided\")\n",
    "test_tokenized = tokenizer(text=texts, padding=\"max_length\", truncation=True, max_length=8, return_tensors = \"tf\")\n",
    "validate = model.predict({'input_ids' :test_tokenized['input_ids'], 'attention_mask' :test_tokenized['attention_mask']})*100 \n",
    "for key,value in zip(dict_val.keys(), validate[0]):\n",
    "    print(key,value)"
   ]
  },
  {
   "cell_type": "code",
   "execution_count": 34,
   "id": "8240c271",
   "metadata": {},
   "outputs": [
    {
     "name": "stdout",
     "output_type": "stream",
     "text": [
      "1/1 [==============================] - 0s 156ms/step\n",
      "BUSINESS 0.2898894\n",
      "ENTERTAINMENT 2.7501802\n",
      "FOOD & DRINK 0.32724157\n",
      "PARENTING 0.12363454\n",
      "POLITICS 0.059796054\n",
      "SPORTS 0.05484691\n",
      "STYLE & BEAUTY 95.56508\n",
      "TRAVEL 0.16658288\n",
      "WELLNESS 0.44026262\n",
      "WORLD NEWS 0.22248751\n"
     ]
    }
   ],
   "source": [
    "# Test case - 3\n",
    "\n",
    "texts = str(\"alanis morissette ditch tough image softer look photo look never go style\")\n",
    "test_tokenized = tokenizer(text=texts, padding=\"max_length\", truncation=True, max_length=8, return_tensors = \"tf\")\n",
    "validate = model.predict({'input_ids' :test_tokenized['input_ids'], 'attention_mask' :test_tokenized['attention_mask']})*100 \n",
    "for key,value in zip(dict_val.keys(), validate[0]):\n",
    "    print(key,value)"
   ]
  },
  {
   "cell_type": "code",
   "execution_count": null,
   "id": "3029cb79",
   "metadata": {},
   "outputs": [],
   "source": []
  }
 ],
 "metadata": {
  "anaconda-cloud": {},
  "kernelspec": {
   "display_name": "Python [conda env:tensorflow3.9.5]",
   "language": "python",
   "name": "conda-env-tensorflow3.9.5-py"
  },
  "language_info": {
   "codemirror_mode": {
    "name": "ipython",
    "version": 3
   },
   "file_extension": ".py",
   "mimetype": "text/x-python",
   "name": "python",
   "nbconvert_exporter": "python",
   "pygments_lexer": "ipython3",
   "version": "3.9.5"
  }
 },
 "nbformat": 4,
 "nbformat_minor": 5
}
